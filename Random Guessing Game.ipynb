{
 "cells": [
  {
   "cell_type": "markdown",
   "metadata": {},
   "source": [
    "#### Import random number and assign variable"
   ]
  },
  {
   "cell_type": "code",
   "execution_count": 1,
   "metadata": {},
   "outputs": [],
   "source": [
    "import random\n",
    "num = random.randint(1,100)"
   ]
  },
  {
   "cell_type": "markdown",
   "metadata": {},
   "source": [
    "#### Rules"
   ]
  },
  {
   "cell_type": "code",
   "execution_count": 2,
   "metadata": {},
   "outputs": [
    {
     "name": "stdout",
     "output_type": "stream",
     "text": [
      "Welcome to Jae's guessing game!\n",
      "Choose a number between 1 to 100\n",
      "Guess more than 10 away from my number, you're COLD\n",
      "Guess within 10 of my number, you're WARM\n",
      "Guess farther than your most recent guess, LOL\n",
      "Guess closer than your most recent guess, HOT!!!\n",
      "Good Luck Have Fun\n"
     ]
    }
   ],
   "source": [
    "print(\"Welcome to Jae's guessing game!\")\n",
    "print(\"Choose a number between 1 to 100\")\n",
    "print(\"Guess more than 10 away from my number, you're COLD\")\n",
    "print(\"Guess within 10 of my number, you're WARM\")\n",
    "print(\"Guess farther than your most recent guess, LOL\")\n",
    "print(\"Guess closer than your most recent guess, HOT!!!\")\n",
    "print(\"Good Luck Have Fun\")"
   ]
  },
  {
   "cell_type": "markdown",
   "metadata": {},
   "source": [
    "#### Create a list to store guesses"
   ]
  },
  {
   "cell_type": "code",
   "execution_count": 3,
   "metadata": {},
   "outputs": [],
   "source": [
    "guesses = [0]"
   ]
  },
  {
   "cell_type": "markdown",
   "metadata": {},
   "source": [
    "#### While loop for guess"
   ]
  },
  {
   "cell_type": "code",
   "execution_count": 4,
   "metadata": {},
   "outputs": [
    {
     "name": "stdout",
     "output_type": "stream",
     "text": [
      "I'm thinking of a number between 1 and 100.\n",
      "  What is your guess? 55\n"
     ]
    }
   ],
   "source": [
    "while True:\n",
    "    \n",
    "    guess = int(input(\"I'm thinking of a number between 1 and 100.\\n  What is your guess? \"))\n",
    "    \n",
    "    if guess < 1 or guess > 100:\n",
    "        print('OUT OF BOUNDS! HAHA! Please try again: ')\n",
    "        continue\n",
    "        \n",
    "    break"
   ]
  },
  {
   "cell_type": "markdown",
   "metadata": {},
   "source": [
    "#### While loop that compares guess to my number\n",
    "If player guess correctly, break loop\n",
    "If warmer/colder, contiune the loop"
   ]
  },
  {
   "cell_type": "code",
   "execution_count": null,
   "metadata": {},
   "outputs": [
    {
     "name": "stdout",
     "output_type": "stream",
     "text": [
      "I'm thinking of a number between 1 and 100.\n",
      "  What is your guess? 55\n",
      "COLD!\n",
      "I'm thinking of a number between 1 and 100.\n",
      "  What is your guess? 45\n",
      "LOL!\n",
      "I'm thinking of a number between 1 and 100.\n",
      "  What is your guess? 7\n",
      "LOL!\n",
      "I'm thinking of a number between 1 and 100.\n",
      "  What is your guess? 1\n",
      "LOL!\n",
      "I'm thinking of a number between 1 and 100.\n",
      "  What is your guess? 2\n",
      "HOT!\n",
      "I'm thinking of a number between 1 and 100.\n",
      "  What is your guess? 3\n",
      "HOT!\n",
      "I'm thinking of a number between 1 and 100.\n",
      "  What is your guess? 4\n",
      "HOT!\n",
      "I'm thinking of a number between 1 and 100.\n",
      "  What is your guess? 5\n",
      "HOT!\n",
      "I'm thinking of a number between 1 and 100.\n",
      "  What is your guess? 6\n",
      "HOT!\n",
      "I'm thinking of a number between 1 and 100.\n",
      "  What is your guess? 8\n",
      "HOT!\n",
      "I'm thinking of a number between 1 and 100.\n",
      "  What is your guess? 9\n",
      "HOT!\n",
      "I'm thinking of a number between 1 and 100.\n",
      "  What is your guess? 10\n",
      "HOT!\n",
      "I'm thinking of a number between 1 and 100.\n",
      "  What is your guess? 11\n",
      "HOT!\n",
      "I'm thinking of a number between 1 and 100.\n",
      "  What is your guess? 12\n",
      "HOT!\n",
      "I'm thinking of a number between 1 and 100.\n",
      "  What is your guess? 13\n",
      "HOT!\n",
      "I'm thinking of a number between 1 and 100.\n",
      "  What is your guess? 14\n",
      "HOT!\n",
      "I'm thinking of a number between 1 and 100.\n",
      "  What is your guess? 15\n",
      "HOT!\n",
      "I'm thinking of a number between 1 and 100.\n",
      "  What is your guess? 16\n",
      "HOT!\n",
      "I'm thinking of a number between 1 and 100.\n",
      "  What is your guess? 17\n",
      "HOT!\n",
      "I'm thinking of a number between 1 and 100.\n",
      "  What is your guess? 18\n",
      "HOT!\n",
      "I'm thinking of a number between 1 and 100.\n",
      "  What is your guess? 19\n",
      "HOT!\n",
      "I'm thinking of a number between 1 and 100.\n",
      "  What is your guess? 20\n",
      "HOT!\n",
      "I'm thinking of a number between 1 and 100.\n",
      "  What is your guess? 21\n",
      "HOT!\n",
      "I'm thinking of a number between 1 and 100.\n",
      "  What is your guess? 22\n",
      "HOT!\n",
      "I'm thinking of a number between 1 and 100.\n",
      "  What is your guess? 23\n",
      "HOT!\n",
      "I'm thinking of a number between 1 and 100.\n",
      "  What is your guess? 24\n",
      "HOT!\n",
      "I'm thinking of a number between 1 and 100.\n",
      "  What is your guess? 25\n",
      "HOT!\n",
      "I'm thinking of a number between 1 and 100.\n",
      "  What is your guess? 26\n",
      "HOT!\n",
      "I'm thinking of a number between 1 and 100.\n",
      "  What is your guess? 27\n",
      "HOT!\n",
      "I'm thinking of a number between 1 and 100.\n",
      "  What is your guess? 28\n",
      "HOT!\n",
      "I'm thinking of a number between 1 and 100.\n",
      "  What is your guess? 29\n",
      "HOT!\n",
      "I'm thinking of a number between 1 and 100.\n",
      "  What is your guess? 30\n",
      "HOT!\n",
      "I'm thinking of a number between 1 and 100.\n",
      "  What is your guess? 31\n",
      "HOT!\n",
      "I'm thinking of a number between 1 and 100.\n",
      "  What is your guess? 32\n",
      "HOT!\n",
      "I'm thinking of a number between 1 and 100.\n",
      "  What is your guess? 33\n",
      "HOT!\n",
      "I'm thinking of a number between 1 and 100.\n",
      "  What is your guess? 34\n",
      "HOT!\n",
      "I'm thinking of a number between 1 and 100.\n",
      "  What is your guess? 35\n",
      "HOT!\n",
      "I'm thinking of a number between 1 and 100.\n",
      "  What is your guess? 36\n",
      "HOT!\n",
      "I'm thinking of a number between 1 and 100.\n",
      "  What is your guess? 37\n",
      "HOT!\n",
      "I'm thinking of a number between 1 and 100.\n",
      "  What is your guess? 38\n",
      "HOT!\n",
      "I'm thinking of a number between 1 and 100.\n",
      "  What is your guess? 39\n",
      "HOT!\n",
      "I'm thinking of a number between 1 and 100.\n",
      "  What is your guess? 40\n",
      "HOT!\n",
      "I'm thinking of a number between 1 and 100.\n",
      "  What is your guess? 55\n",
      "HOT!\n",
      "I'm thinking of a number between 1 and 100.\n",
      "  What is your guess? 56\n",
      "HOT!\n",
      "I'm thinking of a number between 1 and 100.\n",
      "  What is your guess? 90\n",
      "HOT!\n",
      "I'm thinking of a number between 1 and 100.\n",
      "  What is your guess? 91\n",
      "HOT!\n",
      "I'm thinking of a number between 1 and 100.\n",
      "  What is your guess? 2\n",
      "LOL!\n",
      "I'm thinking of a number between 1 and 100.\n",
      "  What is your guess? 92\n",
      "HOT!\n",
      "I'm thinking of a number between 1 and 100.\n",
      "  What is your guess? 93\n",
      "HOT!\n",
      "I'm thinking of a number between 1 and 100.\n",
      "  What is your guess? 94\n",
      "HOT!\n",
      "I'm thinking of a number between 1 and 100.\n",
      "  What is your guess? 99\n",
      "HOT!\n",
      "I'm thinking of a number between 1 and 100.\n",
      "  What is your guess? 95\n",
      "LOL!\n",
      "I'm thinking of a number between 1 and 100.\n",
      "  What is your guess? 21\n",
      "LOL!\n",
      "I'm thinking of a number between 1 and 100.\n",
      "  What is your guess? 31\n",
      "HOT!\n",
      "I'm thinking of a number between 1 and 100.\n",
      "  What is your guess? 31\n",
      "LOL!\n"
     ]
    }
   ],
   "source": [
    "while True:\n",
    "\n",
    "    # we can copy the code from above to take an input\n",
    "    guess = int(input(\"I'm thinking of a number between 1 and 100.\\n  What is your guess? \"))\n",
    "    \n",
    "    if guess < 1 or guess > 100:\n",
    "        print('OUT OF BOUNDS! HAHA! Please try again: ')\n",
    "        continue\n",
    "    \n",
    "    # here we compare the player's guess to our number\n",
    "    if guess == num:\n",
    "        print(f'CONGRATULATIONS, You WON in {len(guesses)} GUESSES!!')\n",
    "        break\n",
    "        \n",
    "    # if guess is incorrect, add guess to the list\n",
    "    guesses.append(guess)\n",
    "    \n",
    "    # when testing the first guess, guesses[-2]==0, which evaluates to False\n",
    "    # and brings us down to the second section\n",
    "    \n",
    "    if guesses[-2]:  \n",
    "        if abs(num-guess) < abs(num-guesses[-2]):\n",
    "            print('HOT!')\n",
    "        else:\n",
    "            print('LOL!')\n",
    "   \n",
    "    else:\n",
    "        if abs(num-guess) <= 10:\n",
    "            print('WARM!')\n",
    "        else:\n",
    "            print('COLD!')"
   ]
  },
  {
   "cell_type": "code",
   "execution_count": null,
   "metadata": {},
   "outputs": [],
   "source": []
  }
 ],
 "metadata": {
  "kernelspec": {
   "display_name": "Python 3",
   "language": "python",
   "name": "python3"
  },
  "language_info": {
   "codemirror_mode": {
    "name": "ipython",
    "version": 3
   },
   "file_extension": ".py",
   "mimetype": "text/x-python",
   "name": "python",
   "nbconvert_exporter": "python",
   "pygments_lexer": "ipython3",
   "version": "3.7.1"
  }
 },
 "nbformat": 4,
 "nbformat_minor": 2
}
